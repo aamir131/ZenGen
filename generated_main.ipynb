{
 "cells": [
  {
   "cell_type": "code",
   "execution_count": 1,
   "metadata": {},
   "outputs": [],
   "source": [
    "import sys\n",
    "from Utils.file_utils import load_convo_from_file, write_to_file, write_convo_to_file, load_file\n",
    "from PromptEngine.PromptEngine import engine"
   ]
  },
  {
   "cell_type": "code",
   "execution_count": 2,
   "metadata": {},
   "outputs": [],
   "source": [
    "customer_prompt_chain: list[dict] = []"
   ]
  },
  {
   "cell_type": "code",
   "execution_count": 3,
   "metadata": {},
   "outputs": [],
   "source": [
    "customer_prompt = \"Customer Prompt: The customer is asking: Generate an initial analysis based on the following information, and requirements:\"\n",
    "customer_prompt = \"What is included when computing the cost of sales?\"\n",
    "table = load_file(\"./test_data/test_table.txt\")\n",
    "call_transcript = load_file(\"./test_data/management_call.txt\")\n",
    "project_description = \" Project type: financial due diligence \\\n",
    "Company Name: Europe Air Conditioning Ltd (EAC) \\\n",
    "Financial Year End: (assumed 31 December, unless otherwise stated) \\\n",
    "Currency: GBP \\\n",
    "Context:Findings aimed at providing transparency and accuracy in financial reporting \\\n",
    "Intended to inform strategic decisions by active shareholders and potential investors\"\n",
    "\n",
    "topic = \"Cost of Sales\"\n",
    "textbox_user_prompt = \" \\\n",
    "accounting treatment (what's included) \\\n",
    "subcontractors\"\n",
    "length = \"short\"\n"
   ]
  },
  {
   "cell_type": "code",
   "execution_count": 4,
   "metadata": {},
   "outputs": [],
   "source": [
    "generated_data, updated_prompt_chain = await engine.generate_content(\n",
    "  customer_prompt_chain, customer_prompt, project_description, table, call_transcript, topic, textbox_user_prompt, length\n",
    ")"
   ]
  },
  {
   "cell_type": "code",
   "execution_count": 5,
   "metadata": {},
   "outputs": [
    {
     "name": "stdout",
     "output_type": "stream",
     "text": [
      "<relevant_insight>The cost of sales for Europe Air Conditioning Ltd (EAC) primarily includes direct expenses such as wages and materials. The company also accounts for Construction Industry Scheme (CIS) labour, CIS materials, plant hire, and subcontractor costs. EAC minimizes its reliance on subcontractors, with subcontractor expenses forming a small portion of the cost of sales, reflecting less than 6% over Fiscal Year 2024.</relevant_insight>\n"
     ]
    }
   ],
   "source": [
    "print(generated_data.explanation)"
   ]
  },
  {
   "cell_type": "code",
   "execution_count": 6,
   "metadata": {},
   "outputs": [
    {
     "name": "stdout",
     "output_type": "stream",
     "text": [
      "Europe Air Conditioning Ltd's cost of sales includes direct expenses related to wages and materials, CIS labour and materials, plant hire, and subcontractor costs, with minimal reliance on subcontractors.\n"
     ]
    }
   ],
   "source": [
    "print(generated_data.analysis)"
   ]
  },
  {
   "cell_type": "code",
   "execution_count": 7,
   "metadata": {},
   "outputs": [],
   "source": [
    "#output_analysis_file = sys.argv[9]\n",
    "#output_other_data_file = sys.argv[10]\n",
    "#output_convo_file = sys.argv[11]\n",
    "#write_to_file(output_analysis_file, generated_data.analysis)\n",
    "#write_to_file(output_other_data_file, generated_data.explanation)\n",
    "#write_convo_to_file(output_convo_file, updated_prompt_chain)"
   ]
  }
 ],
 "metadata": {
  "kernelspec": {
   "display_name": "venv",
   "language": "python",
   "name": "python3"
  },
  "language_info": {
   "codemirror_mode": {
    "name": "ipython",
    "version": 3
   },
   "file_extension": ".py",
   "mimetype": "text/x-python",
   "name": "python",
   "nbconvert_exporter": "python",
   "pygments_lexer": "ipython3",
   "version": "3.12.0"
  }
 },
 "nbformat": 4,
 "nbformat_minor": 2
}
