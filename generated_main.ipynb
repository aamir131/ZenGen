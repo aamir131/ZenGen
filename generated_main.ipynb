{
 "cells": [
  {
   "cell_type": "code",
   "execution_count": 1,
   "metadata": {},
   "outputs": [],
   "source": [
    "from main import generate_content_based_on_prompt"
   ]
  },
  {
   "cell_type": "code",
   "execution_count": 2,
   "metadata": {},
   "outputs": [],
   "source": [
    "project_description = \"Revenue 2019\"\n",
    "table = \"Revenue 2019: 10\"\n",
    "call_transcript = \"The revenue for 2019 is 10 million dollars. However, it could have been more if we had more clients. We need to focus on getting more clients in 2020.\"\n",
    "subtitle = \"Rev 2019\"\n",
    "textbox_user_prompt = \"Give an analysis on the revenue for 2019.\"\n",
    "length = \"Short\"\n"
   ]
  },
  {
   "cell_type": "code",
   "execution_count": 3,
   "metadata": {},
   "outputs": [],
   "source": [
    "k = await generate_content_based_on_prompt(project_description, table, call_transcript, subtitle, textbox_user_prompt, length)"
   ]
  },
  {
   "cell_type": "code",
   "execution_count": 5,
   "metadata": {},
   "outputs": [
    {
     "data": {
      "text/plain": [
       "'The revenue for 2019 was $10 million. While this figure may reflect a stable financial performance, there is an acknowledgment that revenue could have been higher. The limitation was the number of clients, suggesting that client acquisition was a critical area for improvement. The strategy moving forward into 2020 should prioritize expanding the client base to increase revenue potential.'"
      ]
     },
     "execution_count": 5,
     "metadata": {},
     "output_type": "execute_result"
    }
   ],
   "source": [
    "k"
   ]
  },
  {
   "cell_type": "code",
   "execution_count": null,
   "metadata": {},
   "outputs": [],
   "source": []
  }
 ],
 "metadata": {
  "kernelspec": {
   "display_name": "venv",
   "language": "python",
   "name": "python3"
  },
  "language_info": {
   "codemirror_mode": {
    "name": "ipython",
    "version": 3
   },
   "file_extension": ".py",
   "mimetype": "text/x-python",
   "name": "python",
   "nbconvert_exporter": "python",
   "pygments_lexer": "ipython3",
   "version": "3.12.0"
  }
 },
 "nbformat": 4,
 "nbformat_minor": 2
}
