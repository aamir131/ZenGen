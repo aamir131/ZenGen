{
 "cells": [
  {
   "cell_type": "code",
   "execution_count": 1,
   "metadata": {},
   "outputs": [],
   "source": [
    "import json\n",
    "def write_convo_to_file(output_file: str, data: list[dict]):\n",
    "  with open(output_file, 'w', encoding='utf-8') as file:\n",
    "    json.dump(data, file, indent=4)\n",
    "\n",
    "updated_prompt_chain = [{\"role\": \"user\", \"content\": \"test\"}, {\"role\": \"assistant\", \"content\": \"more more test\"}]\n",
    "write_convo_to_file(\"test.json\", updated_prompt_chain)"
   ]
  },
  {
   "cell_type": "code",
   "execution_count": 1,
   "metadata": {},
   "outputs": [],
   "source": [
    "from main import generate_content_based_on_prompt, write_to_file, _load_file"
   ]
  },
  {
   "cell_type": "code",
   "execution_count": 2,
   "metadata": {},
   "outputs": [],
   "source": [
    "table = _load_file(\"./test_table.txt\")"
   ]
  },
  {
   "cell_type": "code",
   "execution_count": 3,
   "metadata": {},
   "outputs": [],
   "source": [
    "call_transcript = _load_file(\"./management_call.txt\")"
   ]
  },
  {
   "cell_type": "code",
   "execution_count": 4,
   "metadata": {},
   "outputs": [],
   "source": [
    "project_description = \" Project type: financial due diligence \\\n",
    "Company Name: Europe Air Conditioning Ltd (EAC) \\\n",
    "Financial Year End: (assumed 31 December, unless otherwise stated) \\\n",
    "Currency: GBP \\\n",
    "Context:Findings aimed at providing transparency and accuracy in financial reporting \\\n",
    "Intended to inform strategic decisions by active shareholders and potential investors\"\n",
    "\n",
    "topic = \"Cost of Sales\"\n",
    "textbox_user_prompt = \" \\\n",
    "accounting treatment (what's included) \\\n",
    "subcontractors\"\n",
    "length = \"short\"\n"
   ]
  },
  {
   "cell_type": "code",
   "execution_count": 5,
   "metadata": {},
   "outputs": [],
   "source": [
    "k = await generate_content_based_on_prompt(project_description, table, call_transcript, topic, textbox_user_prompt, length)"
   ]
  },
  {
   "cell_type": "code",
   "execution_count": 6,
   "metadata": {},
   "outputs": [
    {
     "name": "stdout",
     "output_type": "stream",
     "text": [
      "Europe Air Conditioning Ltd (EAC) includes several direct expenses within their cost of sales. From the provided data table, cost components encompass Direct Expenses, CIS Labour, CIS Materials, Plant Hire, and Subcontractors. Management has emphasized a minimal reliance on subcontractors, typically handling projects with their in-house team and only occasionally using freelance engineers during peak demand periods. This approach aligns with their strategy to maintain cost control and efficiency. The subcontractor and CIS Labour combined account for a diminishing percentage of the total cost of sales, reducing from 13% in FY22 and FY23 to 6% in FY24, likely reflecting better resource management and less outsourcing over time.\n"
     ]
    }
   ],
   "source": [
    "print(k)"
   ]
  }
 ],
 "metadata": {
  "kernelspec": {
   "display_name": "venv",
   "language": "python",
   "name": "python3"
  },
  "language_info": {
   "codemirror_mode": {
    "name": "ipython",
    "version": 3
   },
   "file_extension": ".py",
   "mimetype": "text/x-python",
   "name": "python",
   "nbconvert_exporter": "python",
   "pygments_lexer": "ipython3",
   "version": "3.12.0"
  }
 },
 "nbformat": 4,
 "nbformat_minor": 2
}
