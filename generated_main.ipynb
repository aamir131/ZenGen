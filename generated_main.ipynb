{
 "cells": [
  {
   "cell_type": "code",
   "execution_count": 1,
   "metadata": {},
   "outputs": [],
   "source": [
    "from main import generate_content_based_on_prompt"
   ]
  },
  {
   "cell_type": "code",
   "execution_count": 2,
   "metadata": {},
   "outputs": [],
   "source": [
    "project_description = \"Revenue 2019\"\n",
    "table = \"Revenue 2019: 10\"\n",
    "call_transcript = \"The revenue for 2019 is 10 million dollars. However, it could have been more if we had more clients. We need to focus on getting more clients in 2020.\"\n",
    "subtitle = \"Rev 2019\"\n",
    "textbox_user_prompt = \"Give an analysis on the revenue for 2019.\"\n",
    "length = \"Short\"\n"
   ]
  },
  {
   "cell_type": "code",
   "execution_count": 4,
   "metadata": {},
   "outputs": [],
   "source": [
    "k = await generate_content_based_on_prompt(project_description, table, call_transcript, subtitle, textbox_user_prompt, length)"
   ]
  },
  {
   "cell_type": "code",
   "execution_count": 9,
   "metadata": {},
   "outputs": [
    {
     "name": "stdout",
     "output_type": "stream",
     "text": [
      "ParsedChatCompletionMessage[NoneType](content='In 2019, the company generated a revenue of $10 million. While this figure is respectable, management indicates potential for increased earnings, contingent on expanding the client base. Looking ahead, a key strategic focus for 2020 should be on acquiring more clients to boost revenues beyond 2019 levels.', refusal=None, role='assistant', audio=None, function_call=None, tool_calls=[], parsed=None)\n"
     ]
    }
   ],
   "source": [
    "print(__dir(k)__)"
   ]
  },
  {
   "cell_type": "code",
   "execution_count": null,
   "metadata": {},
   "outputs": [],
   "source": []
  }
 ],
 "metadata": {
  "kernelspec": {
   "display_name": "venv",
   "language": "python",
   "name": "python3"
  },
  "language_info": {
   "codemirror_mode": {
    "name": "ipython",
    "version": 3
   },
   "file_extension": ".py",
   "mimetype": "text/x-python",
   "name": "python",
   "nbconvert_exporter": "python",
   "pygments_lexer": "ipython3",
   "version": "3.12.0"
  }
 },
 "nbformat": 4,
 "nbformat_minor": 2
}
